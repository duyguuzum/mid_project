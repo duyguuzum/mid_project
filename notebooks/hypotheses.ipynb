{
 "cells": [
  {
   "cell_type": "code",
   "execution_count": 7,
   "id": "0a46e66c",
   "metadata": {},
   "outputs": [],
   "source": [
    "import pandas as pd\n",
    "import numpy as np\n",
    "import matplotlib.pyplot as plt\n",
    "import seaborn as sns"
   ]
  },
  {
   "cell_type": "code",
   "execution_count": 2,
   "id": "c97645a9",
   "metadata": {},
   "outputs": [],
   "source": [
    "data = pd.read_csv('ds_salaries.csv')"
   ]
  },
  {
   "cell_type": "code",
   "execution_count": 4,
   "id": "17479e23",
   "metadata": {},
   "outputs": [
    {
     "name": "stdout",
     "output_type": "stream",
     "text": [
      "       Unnamed: 0    work_year        salary  salary_in_usd  remote_ratio\n",
      "count  607.000000   607.000000  6.070000e+02     607.000000     607.00000\n",
      "mean   303.000000  2021.405272  3.240001e+05  112297.869852      70.92257\n",
      "std    175.370085     0.692133  1.544357e+06   70957.259411      40.70913\n",
      "min      0.000000  2020.000000  4.000000e+03    2859.000000       0.00000\n",
      "25%    151.500000  2021.000000  7.000000e+04   62726.000000      50.00000\n",
      "50%    303.000000  2022.000000  1.150000e+05  101570.000000     100.00000\n",
      "75%    454.500000  2022.000000  1.650000e+05  150000.000000     100.00000\n",
      "max    606.000000  2022.000000  3.040000e+07  600000.000000     100.00000\n"
     ]
    }
   ],
   "source": [
    "descriptive_stats = data.describe()\n",
    "print(descriptive_stats)"
   ]
  },
  {
   "cell_type": "code",
   "execution_count": 8,
   "id": "1d0d4b89",
   "metadata": {},
   "outputs": [
    {
     "data": {
      "text/html": [
       "<div>\n",
       "<style scoped>\n",
       "    .dataframe tbody tr th:only-of-type {\n",
       "        vertical-align: middle;\n",
       "    }\n",
       "\n",
       "    .dataframe tbody tr th {\n",
       "        vertical-align: top;\n",
       "    }\n",
       "\n",
       "    .dataframe thead th {\n",
       "        text-align: right;\n",
       "    }\n",
       "</style>\n",
       "<table border=\"1\" class=\"dataframe\">\n",
       "  <thead>\n",
       "    <tr style=\"text-align: right;\">\n",
       "      <th></th>\n",
       "      <th>Unnamed: 0</th>\n",
       "      <th>work_year</th>\n",
       "      <th>salary</th>\n",
       "      <th>salary_in_usd</th>\n",
       "      <th>remote_ratio</th>\n",
       "    </tr>\n",
       "  </thead>\n",
       "  <tbody>\n",
       "    <tr>\n",
       "      <th>0</th>\n",
       "      <td>0</td>\n",
       "      <td>2020</td>\n",
       "      <td>70000</td>\n",
       "      <td>79833</td>\n",
       "      <td>0</td>\n",
       "    </tr>\n",
       "    <tr>\n",
       "      <th>1</th>\n",
       "      <td>1</td>\n",
       "      <td>2020</td>\n",
       "      <td>260000</td>\n",
       "      <td>260000</td>\n",
       "      <td>0</td>\n",
       "    </tr>\n",
       "    <tr>\n",
       "      <th>2</th>\n",
       "      <td>2</td>\n",
       "      <td>2020</td>\n",
       "      <td>85000</td>\n",
       "      <td>109024</td>\n",
       "      <td>50</td>\n",
       "    </tr>\n",
       "    <tr>\n",
       "      <th>3</th>\n",
       "      <td>3</td>\n",
       "      <td>2020</td>\n",
       "      <td>20000</td>\n",
       "      <td>20000</td>\n",
       "      <td>0</td>\n",
       "    </tr>\n",
       "    <tr>\n",
       "      <th>4</th>\n",
       "      <td>4</td>\n",
       "      <td>2020</td>\n",
       "      <td>150000</td>\n",
       "      <td>150000</td>\n",
       "      <td>50</td>\n",
       "    </tr>\n",
       "    <tr>\n",
       "      <th>...</th>\n",
       "      <td>...</td>\n",
       "      <td>...</td>\n",
       "      <td>...</td>\n",
       "      <td>...</td>\n",
       "      <td>...</td>\n",
       "    </tr>\n",
       "    <tr>\n",
       "      <th>602</th>\n",
       "      <td>602</td>\n",
       "      <td>2022</td>\n",
       "      <td>154000</td>\n",
       "      <td>154000</td>\n",
       "      <td>100</td>\n",
       "    </tr>\n",
       "    <tr>\n",
       "      <th>603</th>\n",
       "      <td>603</td>\n",
       "      <td>2022</td>\n",
       "      <td>126000</td>\n",
       "      <td>126000</td>\n",
       "      <td>100</td>\n",
       "    </tr>\n",
       "    <tr>\n",
       "      <th>604</th>\n",
       "      <td>604</td>\n",
       "      <td>2022</td>\n",
       "      <td>129000</td>\n",
       "      <td>129000</td>\n",
       "      <td>0</td>\n",
       "    </tr>\n",
       "    <tr>\n",
       "      <th>605</th>\n",
       "      <td>605</td>\n",
       "      <td>2022</td>\n",
       "      <td>150000</td>\n",
       "      <td>150000</td>\n",
       "      <td>100</td>\n",
       "    </tr>\n",
       "    <tr>\n",
       "      <th>606</th>\n",
       "      <td>606</td>\n",
       "      <td>2022</td>\n",
       "      <td>200000</td>\n",
       "      <td>200000</td>\n",
       "      <td>100</td>\n",
       "    </tr>\n",
       "  </tbody>\n",
       "</table>\n",
       "<p>607 rows × 5 columns</p>\n",
       "</div>"
      ],
      "text/plain": [
       "     Unnamed: 0  work_year  salary  salary_in_usd  remote_ratio\n",
       "0             0       2020   70000          79833             0\n",
       "1             1       2020  260000         260000             0\n",
       "2             2       2020   85000         109024            50\n",
       "3             3       2020   20000          20000             0\n",
       "4             4       2020  150000         150000            50\n",
       "..          ...        ...     ...            ...           ...\n",
       "602         602       2022  154000         154000           100\n",
       "603         603       2022  126000         126000           100\n",
       "604         604       2022  129000         129000             0\n",
       "605         605       2022  150000         150000           100\n",
       "606         606       2022  200000         200000           100\n",
       "\n",
       "[607 rows x 5 columns]"
      ]
     },
     "execution_count": 8,
     "metadata": {},
     "output_type": "execute_result"
    }
   ],
   "source": [
    "numericals = data.select_dtypes(np.number)\n",
    "numericals"
   ]
  },
  {
   "cell_type": "code",
   "execution_count": 9,
   "id": "7cad041b",
   "metadata": {},
   "outputs": [
    {
     "name": "stdout",
     "output_type": "stream",
     "text": [
      "               Unnamed: 0  work_year    salary  salary_in_usd  remote_ratio\n",
      "Unnamed: 0       1.000000   0.886550 -0.096250       0.167025      0.095000\n",
      "work_year        0.886550   1.000000 -0.087577       0.170493      0.076314\n",
      "salary          -0.096250  -0.087577  1.000000      -0.083906     -0.014608\n",
      "salary_in_usd    0.167025   0.170493 -0.083906       1.000000      0.132122\n",
      "remote_ratio     0.095000   0.076314 -0.014608       0.132122      1.000000\n"
     ]
    }
   ],
   "source": [
    "correlation_matrix = numericals.corr()\n",
    "print(correlation_matrix)"
   ]
  },
  {
   "cell_type": "code",
   "execution_count": 16,
   "id": "95eae3b1",
   "metadata": {},
   "outputs": [
    {
     "data": {
      "text/plain": [
       "TtestResult(statistic=5.163876824690968, pvalue=3.285515483510842e-07, df=606)"
      ]
     },
     "execution_count": 16,
     "metadata": {},
     "output_type": "execute_result"
    }
   ],
   "source": [
    "import scipy.stats as stats\n",
    "\n",
    "#perform one sample t-test\n",
    "stats.ttest_1samp(a=numericals['salary'], popmean=310)"
   ]
  },
  {
   "cell_type": "code",
   "execution_count": 17,
   "id": "0e818061",
   "metadata": {},
   "outputs": [
    {
     "name": "stdout",
     "output_type": "stream",
     "text": [
      "Mean Salary: 324000.0626029654\n",
      "Median Salary: 115000.0\n"
     ]
    }
   ],
   "source": [
    "import matplotlib.pyplot as plt\n",
    "\n",
    "# Calculate mean and median salary\n",
    "mean_salary = data['salary'].mean()\n",
    "median_salary = data['salary'].median()\n",
    "print(f\"Mean Salary: {mean_salary}\")\n",
    "print(f\"Median Salary: {median_salary}\")"
   ]
  },
  {
   "cell_type": "code",
   "execution_count": 18,
   "id": "fce0bd85",
   "metadata": {},
   "outputs": [
    {
     "data": {
      "image/png": "[encoded data removed]",
      "text/plain": [
       "<Figure size 640x480 with 1 Axes>"
      ]
     },
     "metadata": {},
     "output_type": "display_data"
    }
   ],
   "source": [
    "# Create a histogram of salary\n",
    "plt.hist(data['salary'], bins=10, edgecolor='k')\n",
    "plt.xlabel('Salary')\n",
    "plt.ylabel('Frequency')\n",
    "plt.title('Salary Distribution')\n",
    "plt.show()"
   ]
  },
  {
   "cell_type": "code",
   "execution_count": 19,
   "id": "516e2f5d",
   "metadata": {},
   "outputs": [
    {
     "data": {
      "image/png": "[encoded data removed]",
      "text/plain": [
       "<Figure size 640x480 with 1 Axes>"
      ]
     },
     "metadata": {},
     "output_type": "display_data"
    }
   ],
   "source": [
    "# Create a bar plot of average salary by experience level\n",
    "avg_salary_by_level = data.groupby('experience_level')['salary'].mean()\n",
    "plt.bar(avg_salary_by_level.index, avg_salary_by_level)\n",
    "plt.xlabel('Experience Level')\n",
    "plt.ylabel('Average Salary')\n",
    "plt.title('Average Salary by Experience Level')\n",
    "plt.show()"
   ]
  },
  {
   "cell_type": "code",
   "execution_count": null,
   "id": "cdb6856e",
   "metadata": {},
   "outputs": [],
   "source": []
  }
 ],
 "metadata": {
  "kernelspec": {
   "display_name": "Python 3 (ipykernel)",
   "language": "python",
   "name": "python3"
  },
  "language_info": {
   "codemirror_mode": {
    "name": "ipython",
    "version": 3
   },
   "file_extension": ".py",
   "mimetype": "text/x-python",
   "name": "python",
   "nbconvert_exporter": "python",
   "pygments_lexer": "ipython3",
   "version": "3.10.9"
  }
 },
 "nbformat": 4,
 "nbformat_minor": 5
}
